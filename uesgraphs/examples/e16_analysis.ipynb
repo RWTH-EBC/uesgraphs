{
 "cells": [
  {
   "cell_type": "code",
   "execution_count": null,
   "metadata": {},
   "outputs": [],
   "source": []
  },
  {
   "cell_type": "code",
   "execution_count": 1,
   "metadata": {},
   "outputs": [],
   "source": [
    "\n",
    "import uesgraphs as ug\n",
    "\n",
    "from uesgraphs.examples import e1_example_readme as e1\n",
    "\n",
    "import os\n",
    "import sys\n",
    "from datetime import datetime\n",
    "import tempfile"
   ]
  },
  {
   "cell_type": "code",
   "execution_count": 2,
   "metadata": {},
   "outputs": [],
   "source": [
    "import uesgraphs.analysis as analysis\n"
   ]
  },
  {
   "cell_type": "code",
   "execution_count": 3,
   "metadata": {},
   "outputs": [],
   "source": [
    "\n",
    "workspace = e1.workspace_example(\"e14\")\n",
    "\n",
    "dir_ues = os.path.dirname(os.path.dirname(workspace))\n",
    "pinola_json = os.path.join(dir_ues, \"workspace\", \"e11\", \"inputs\",\"test_modelgen\", \"Pinola\", \"nodes.json\")\n",
    "pinola_sim_data = os.path.join(dir_ues,\"uesgraphs\",\"data\",\"Pinola_low_temp_network_inputs.mat\")\n",
    "pinola_sim_data = r\"D:\\rka-lko\\work\\2025_04_analysis\\10042025SeestadtNewSim\\Sim20250409_190504\\Sim20250409_190504_1\\Results\\Sim20250409_190504_1_inputs.gzip\"\n",
    "pinola_json =r\"D:\\rka-lko\\git\\transurban_seestadt\\dhc_model\\workspace\\transurban_seestadt_uesgraphs.json\"\n",
    "sysm_model = r\"D:\\rka-lko\\git\\transurban_seestadt\\dhc_model\\workspace\\sysm_model.json\"\n",
    "if not os.path.exists(pinola_json):\n",
    "    raise FileNotFoundError(f\"File {pinola_json} not found.\"\n",
    "                            \"Please run example e11 to generate network topology.\")\n"
   ]
  },
  {
   "cell_type": "code",
   "execution_count": 4,
   "metadata": {},
   "outputs": [
    {
     "name": "stdout",
     "output_type": "stream",
     "text": [
      "read nodes...\n",
      "******\n",
      " input_ids were {'buildings': None, 'nodes': 'f9aaeda0-ae79-42b3-8358-b465d4c47259', 'pipes': None, 'supplies': None}\n",
      "...finished\n"
     ]
    }
   ],
   "source": [
    "\n",
    "graph = ug.UESGraph()\n",
    "graph.from_json(path = pinola_json, network_type=\"heating\")\n",
    "graph.graph[\"name\"] = \"pinola\"\n",
    "graph.graph[\"supply_type\"] = \"supply\"\n",
    "\n",
    "start_date=datetime(2024, 1, 1) \n",
    "end_date=datetime(2024, 1, 7)\n",
    "    \n"
   ]
  },
  {
   "cell_type": "code",
   "execution_count": 5,
   "metadata": {},
   "outputs": [
    {
     "name": "stdout",
     "output_type": "stream",
     "text": [
      "Logfile findable here: C:\\Users\\rka-lko\\AppData\\Local\\Temp\\uesgraphs.analysis.data_handling.data_handling.assign_data_to_uesgraphs_20250605_181236.log\n"
     ]
    },
    {
     "ename": "NameError",
     "evalue": "name 'get_node_values' is not defined",
     "output_type": "error",
     "traceback": [
      "\u001b[31m---------------------------------------------------------------------------\u001b[39m",
      "\u001b[31mNameError\u001b[39m                                 Traceback (most recent call last)",
      "\u001b[36mCell\u001b[39m\u001b[36m \u001b[39m\u001b[32mIn[5]\u001b[39m\u001b[32m, line 1\u001b[39m\n\u001b[32m----> \u001b[39m\u001b[32m1\u001b[39m gr = \u001b[43manalysis\u001b[49m\u001b[43m.\u001b[49m\u001b[43massign_simulation_data\u001b[49m\u001b[43m(\u001b[49m\u001b[43mgraph\u001b[49m\u001b[43m,\u001b[49m\u001b[43m \u001b[49m\u001b[43mpinola_sim_data\u001b[49m\u001b[43m,\u001b[49m\u001b[43m \u001b[49m\u001b[43mstart_date\u001b[49m\u001b[43m,\u001b[49m\u001b[43m \u001b[49m\u001b[43mend_date\u001b[49m\u001b[43m,\u001b[49m\u001b[43maixlib_version\u001b[49m\u001b[43m=\u001b[49m\u001b[33;43m\"\u001b[39;49m\u001b[33;43m2.0.0\u001b[39;49m\u001b[33;43m\"\u001b[39;49m\u001b[43m,\u001b[49m\u001b[43mauto_retry\u001b[49m\u001b[43m=\u001b[49m\u001b[38;5;28;43;01mTrue\u001b[39;49;00m\u001b[43m)\u001b[49m\n",
      "\u001b[36mFile \u001b[39m\u001b[32mD:\\rka-lko\\git\\uesgraphs\\uesgraphs\\analysis\\data_handling\\data_handling.py:554\u001b[39m, in \u001b[36massign_simulation_data\u001b[39m\u001b[34m(graph, sim_data, start_date, end_date, aixlib_version, time_interval, auto_retry, validate_network, log_dir)\u001b[39m\n\u001b[32m    551\u001b[39m     \u001b[38;5;28;01mreturn\u001b[39;00m graph_with_nodes\n\u001b[32m    553\u001b[39m \u001b[38;5;66;03m# First attempt with specified version\u001b[39;00m\n\u001b[32m--> \u001b[39m\u001b[32m554\u001b[39m result = \u001b[43m_attempt_assignment\u001b[49m\u001b[43m(\u001b[49m\u001b[43maixlib_version\u001b[49m\u001b[43m)\u001b[49m\n\u001b[32m    555\u001b[39m logger.info(\u001b[33m\"\u001b[39m\u001b[33m=\u001b[39m\u001b[33m\"\u001b[39m*\u001b[32m60\u001b[39m)\n\u001b[32m    556\u001b[39m logger.info(\u001b[33m\"\u001b[39m\u001b[33mUESGraph data assignment completed successfully\u001b[39m\u001b[33m\"\u001b[39m)\n",
      "\u001b[36mFile \u001b[39m\u001b[32mD:\\rka-lko\\git\\uesgraphs\\uesgraphs\\analysis\\data_handling\\data_handling.py:518\u001b[39m, in \u001b[36massign_simulation_data.<locals>._attempt_assignment\u001b[39m\u001b[34m(version)\u001b[39m\n\u001b[32m    516\u001b[39m \u001b[38;5;66;03m# Assign node values (pressure and temperature)\u001b[39;00m\n\u001b[32m    517\u001b[39m logger.info(\u001b[33m\"\u001b[39m\u001b[33mAssigning node values (pressure and temperature)\u001b[39m\u001b[33m\"\u001b[39m)\n\u001b[32m--> \u001b[39m\u001b[32m518\u001b[39m graph_with_nodes = \u001b[43mget_node_values\u001b[49m(graph, df.iloc[\u001b[32m0\u001b[39m], \n\u001b[32m    519\u001b[39m                                  pipe_type=supply_type_prefix[supply_type],\n\u001b[32m    520\u001b[39m                                  logger=logger)\n\u001b[32m    522\u001b[39m \u001b[38;5;66;03m# Assign time series data to nodes\u001b[39;00m\n\u001b[32m    523\u001b[39m logger.info(\u001b[33m\"\u001b[39m\u001b[33mAssigning time series data to nodes\u001b[39m\u001b[33m\"\u001b[39m)\n",
      "\u001b[31mNameError\u001b[39m: name 'get_node_values' is not defined"
     ]
    }
   ],
   "source": [
    "gr = analysis.assign_simulation_data(graph, pinola_sim_data, start_date, end_date,aixlib_version=\"2.0.0\",auto_retry=True)"
   ]
  },
  {
   "cell_type": "code",
   "execution_count": 6,
   "metadata": {},
   "outputs": [
    {
     "name": "stdout",
     "output_type": "stream",
     "text": [
      "Logfile findable here: C:\\Users\\rka-lko\\AppData\\Local\\Temp\\SystemModelHeating_20250605_181241.log\n",
      "Warning: Could not set attribute time: property 'time' of 'SystemModelHeating' object has no setter\n",
      "Model loaded from D:\\rka-lko\\git\\transurban_seestadt\\dhc_model\\workspace\\sysm_model.json\n"
     ]
    }
   ],
   "source": [
    "from uesgraphs.systemmodels import utilities as ut\n",
    "sysm_graph = ut.load_system_model_from_json(sysm_model)"
   ]
  },
  {
   "cell_type": "code",
   "execution_count": 7,
   "metadata": {},
   "outputs": [
    {
     "data": {
      "text/plain": [
       "{1001: ['pipe10021025.port_a', 'pipe10021014.port_a', 'pipe10021010.port_a'],\n",
       " 1002: ['pipe10041007.port_a', 'pipe10041006.port_a', 'pipe10041027.port_a'],\n",
       " 1003: ['pipe10061022.port_a', 'pipe10041006.port_b'],\n",
       " 1004: ['pipe10041007.port_b', 'pipe10071018.port_a'],\n",
       " 1005: ['pipe10021010.port_b', 'pipe10101029.port_a'],\n",
       " 1006: ['pipe10141022.port_a', 'pipe10141026.port_a', 'pipe10021014.port_b'],\n",
       " 1007: ['pipe10071018.port_b', 'pipe10181028.port_a'],\n",
       " 1008: ['pipe10141022.port_b', 'pipe10061022.port_b'],\n",
       " 1009: ['pipe10021025.port_b', 'supplysupply1.port_b'],\n",
       " 1010: ['demandw11_3.port_a', 'pipe10141026.port_b'],\n",
       " 1011: ['demandw11_2.port_a', 'pipe10041027.port_b'],\n",
       " 1012: ['pipe10181028.port_b', 'demandw11_1.port_a'],\n",
       " 1013: ['pipe10101029.port_b', 'demandw11_4.port_a']}"
      ]
     },
     "execution_count": 7,
     "metadata": {},
     "output_type": "execute_result"
    }
   ],
   "source": [
    "from uesgraphs.analysis.data_handling import graph_transformation\n",
    "graph_transformation.map_system_model_to_uesgraph(sysm_graph,graph)"
   ]
  },
  {
   "cell_type": "code",
   "execution_count": null,
   "metadata": {},
   "outputs": [
    {
     "ename": "NameError",
     "evalue": "name 'map_system_model_to_uesgraph' is not defined",
     "output_type": "error",
     "traceback": [
      "\u001b[31m---------------------------------------------------------------------------\u001b[39m",
      "\u001b[31mNameError\u001b[39m                                 Traceback (most recent call last)",
      "\u001b[36mCell\u001b[39m\u001b[36m \u001b[39m\u001b[32mIn[17]\u001b[39m\u001b[32m, line 1\u001b[39m\n\u001b[32m----> \u001b[39m\u001b[32m1\u001b[39m \u001b[43mmap_system_model_to_uesgraph\u001b[49m(mo,uesgraph)\n",
      "\u001b[31mNameError\u001b[39m: name 'map_system_model_to_uesgraph' is not defined"
     ]
    }
   ],
   "source": [
    "map_system_model_to_uesgraph(mo,uesgraph)\n"
   ]
  },
  {
   "cell_type": "code",
   "execution_count": null,
   "metadata": {},
   "outputs": [
    {
     "name": "stdout",
     "output_type": "stream",
     "text": [
      "Edge (1001, 1005) has data: {'diameter': 0.0697, 'length': 62.67448664094058, 'pipeID': '10021010', 'name': '10021010', 'node_0': 1002, 'node_1': 1010}\n",
      "Edge (1001, 1006) has data: {'diameter': 0.2101, 'length': 40.10060652984215, 'pipeID': '10021014', 'name': '10021014', 'node_0': 1002, 'node_1': 1014}\n",
      "Edge (1001, 1009) has data: {'diameter': 0.2101, 'length': 23.793988913832845, 'pipeID': '10021025', 'name': '10021025', 'node_0': 1002, 'node_1': 'supply1'}\n",
      "Edge (1002, 1003) has data: {'diameter': 0.1325, 'length': 23.15227945754485, 'pipeID': '10041006', 'name': '10041006', 'node_0': 1004, 'node_1': 1006}\n",
      "Edge (1002, 1004) has data: {'diameter': 0.1325, 'length': 67.21343661070965, 'pipeID': '10041007', 'name': '10041007', 'node_0': 1004, 'node_1': 1007}\n",
      "Edge (1002, 1011) has data: {'diameter': 0.0539, 'length': 25.20026053450003, 'pipeID': '10041027', 'name': '10041027', 'node_0': 1004, 'node_1': 'w11_2'}\n",
      "Edge (1003, 1008) has data: {'diameter': 0.2101, 'length': 43.10762795752977, 'pipeID': '10061022', 'name': '10061022', 'node_0': 1006, 'node_1': 1022}\n",
      "Edge (1004, 1007) has data: {'diameter': 0.1071, 'length': 41.06543024277208, 'pipeID': '10071018', 'name': '10071018', 'node_0': 1007, 'node_1': 1018}\n",
      "Edge (1005, 1013) has data: {'diameter': 0.0697, 'length': 17.635612191884555, 'pipeID': '10101029', 'name': '10101029', 'node_0': 1010, 'node_1': 'w11_4'}\n",
      "Edge (1006, 1008) has data: {'diameter': 0.2101, 'length': 42.097964605664814, 'pipeID': '10141022', 'name': '10141022', 'node_0': 1014, 'node_1': 1022}\n",
      "Edge (1006, 1010) has data: {'diameter': 0.0539, 'length': 18.20446528640188, 'pipeID': '10141026', 'name': '10141026', 'node_0': 1014, 'node_1': 'w11_3'}\n",
      "Edge (1007, 1012) has data: {'diameter': 0.0697, 'length': 22.026936306526547, 'pipeID': '10181028', 'name': '10181028', 'node_0': 1018, 'node_1': 'w11_1'}\n"
     ]
    }
   ],
   "source": [
    "edges = list(graph.edges)\n",
    "for edge in edges:\n",
    "    print(f\"Edge {edge} has data: {graph.edges[edge]}\")"
   ]
  },
  {
   "cell_type": "code",
   "execution_count": null,
   "metadata": {},
   "outputs": [],
   "source": []
  },
  {
   "cell_type": "code",
   "execution_count": null,
   "metadata": {},
   "outputs": [],
   "source": [
    "    graph = analyze.assign_data_to_uesgraphs(graph,sim_data = pinola_sim_data,\n",
    "                                             start_date=start_date,\n",
    "                                             end_date=end_date,\n",
    "                                             aixlib_version=\"2.1.0\") #aixlib version is needed to assign data properly\n",
    "    \n",
    "    ### Plotting\n",
    "    #Visuals cant handle series data, so we just take the mean values, but single time points are possible\n",
    "    vis = ug.Visuals(graph)\n",
    "    for edge in graph.edges:\n",
    "        graph.edges[edge][\"m_flow_mean\"] = graph.edges[edge][\"m_flow\"].mean()\n",
    "    vis.show_network(show_plot=False,\n",
    "                           scaling_factor=1,\n",
    "                           scaling_factor_diameter=50,\n",
    "                           label_size=15,\n",
    "                           ylabel=\"Mean mass flow [kg/s]\",\n",
    "                           generic_extensive_size=\"m_flow_mean\",\n",
    "                           save_as=os.path.join(workspace, \"m_flow.png\"),\n",
    "                           timestamp=f\"{graph.graph[\"name\"]}: Mean mass flow\"\n",
    "                           )\n",
    "    \n",
    "    for node in graph.nodes:\n",
    "        graph.nodes[node][\"press_flow_mean\"] = graph.nodes[node][\"press_flow\"].mean()\n",
    "    vis.show_network(show_plot=False,\n",
    "                           scaling_factor=1,\n",
    "                           scaling_factor_diameter=50,\n",
    "                           ylabel=\"Mean pressure [Pa]\",\n",
    "                           label_size=15,\n",
    "                           generic_intensive_size=\"press_flow_mean\",\n",
    "                           save_as=os.path.join(workspace, \"press_flow.png\"),\n",
    "                           timestamp=f\"{graph.graph[\"name\"]}: Mean pressure flow\"\n",
    "                           )\n",
    "    \n",
    "    df = analyze.pump_power_analysis(graph, True, r\"D:\\rka-lko\\work\\2025_04_analysis\\3\")\n",
    "\n",
    "if __name__ == \"__main__\":\n",
    "    main()"
   ]
  },
  {
   "cell_type": "code",
   "execution_count": null,
   "metadata": {},
   "outputs": [],
   "source": []
  }
 ],
 "metadata": {
  "kernelspec": {
   "display_name": "uesgraphs_git1",
   "language": "python",
   "name": "python3"
  },
  "language_info": {
   "codemirror_mode": {
    "name": "ipython",
    "version": 3
   },
   "file_extension": ".py",
   "mimetype": "text/x-python",
   "name": "python",
   "nbconvert_exporter": "python",
   "pygments_lexer": "ipython3",
   "version": "3.13.2"
  }
 },
 "nbformat": 4,
 "nbformat_minor": 2
}
