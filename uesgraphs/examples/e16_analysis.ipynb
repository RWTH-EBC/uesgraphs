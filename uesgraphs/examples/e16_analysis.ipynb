{
 "cells": [
  {
   "cell_type": "code",
   "execution_count": 10,
   "metadata": {},
   "outputs": [],
   "source": [
    "\n",
    "import uesgraphs as ug\n",
    "\n",
    "from uesgraphs.examples import e1_example_readme as e1\n",
    "\n",
    "import os\n",
    "from datetime import datetime\n"
   ]
  },
  {
   "cell_type": "code",
   "execution_count": 11,
   "metadata": {},
   "outputs": [],
   "source": [
    "\n",
    "workspace = e1.workspace_example(\"e14\")\n",
    "\n",
    "dir_ues = os.path.dirname(os.path.dirname(workspace))\n",
    "pinola_json = os.path.join(dir_ues, \"workspace\", \"e11\", \"inputs\",\"test_modelgen\", \"Pinola\", \"nodes.json\")\n",
    "pinola_sim_data = os.path.join(dir_ues,\"uesgraphs\",\"data\",\"Pinola_low_temp_network_inputs.mat\")\n",
    "pinola_sim_data = r\"E:\\rka_lko\\work\\2025_04_analysis\\10042025SeestadtNewSim\\Sim20250409_190504_detailed\\Sim20250409_190504_1\\Results\\Sim20250409_190504_1_inputs.gzip\"\n",
    "pinola_json =r\"E:\\rka_lko\\git\\transurban_seestadt\\dhc_model\\workspace\\transurban_seestadt_uesgraphs.json\"\n",
    "sysm_model = r\"E:\\rka_lko\\git\\transurban_seestadt\\dhc_model\\workspace\\model.json\"\n",
    "if not os.path.exists(pinola_json):\n",
    "    raise FileNotFoundError(f\"File {pinola_json} not found.\"\n",
    "                            \"Please run example e11 to generate network topology.\")\n"
   ]
  },
  {
   "cell_type": "code",
   "execution_count": 12,
   "metadata": {},
   "outputs": [
    {
     "name": "stdout",
     "output_type": "stream",
     "text": [
      "read nodes...\n",
      "******\n",
      " input_ids were {'buildings': None, 'nodes': 'f607cb63-8aed-446c-9970-9cd8380434f8', 'pipes': None, 'supplies': None}\n",
      "...finished\n"
     ]
    }
   ],
   "source": [
    "time_interval = \"15min\"\n",
    "aixlib_version = \"2.1.0\"\n",
    "\n",
    "graph = ug.UESGraph()\n",
    "graph.from_json(path = pinola_json, network_type=\"heating\")\n",
    "graph.graph[\"name\"] = \"pinola\"\n",
    "graph.graph[\"supply_type\"] = \"supply\"\n",
    "\n"
   ]
  },
  {
   "cell_type": "code",
   "execution_count": 13,
   "metadata": {},
   "outputs": [
    {
     "data": {
      "text/plain": [
       "{'diameter': 0.2101,\n",
       " 'length': 40.10060652984215,\n",
       " 'pipeID': '10021014',\n",
       " 'name': '10021014',\n",
       " 'node_0': 1002,\n",
       " 'node_1': 1014}"
      ]
     },
     "execution_count": 13,
     "metadata": {},
     "output_type": "execute_result"
    }
   ],
   "source": [
    "graph.edges[1001,1006]"
   ]
  },
  {
   "cell_type": "code",
   "execution_count": 14,
   "metadata": {},
   "outputs": [
    {
     "name": "stdout",
     "output_type": "stream",
     "text": [
      "Logfile findable here: C:\\Users\\rka-lko\\AppData\\Local\\Temp\\3\\assign_data_pipeline_20250829_133458.log\n",
      "Logfile findable here: C:\\Users\\rka-lko\\AppData\\Local\\Temp\\3\\SystemModelHeating_20250829_133458.log\n",
      "Warning: Could not set attribute time: property 'time' of 'SystemModelHeating' object has no setter\n",
      "Model loaded from E:\\rka_lko\\git\\transurban_seestadt\\dhc_model\\workspace\\model.json\n"
     ]
    },
    {
     "data": {
      "text/plain": [
       "<uesgraphs.UESGraph object>"
      ]
     },
     "execution_count": 14,
     "metadata": {},
     "output_type": "execute_result"
    }
   ],
   "source": [
    "\n",
    "start_date=datetime(2024, 1, 1) \n",
    "end_date=datetime(2024, 1, 7)\n",
    "    \n",
    "from uesgraphs.analysis import assign_data_pipeline\n",
    "\n",
    "graph = assign_data_pipeline(graph, pinola_sim_data, time_interval= time_interval,\n",
    "                     aixlib_version=aixlib_version,\n",
    "                     start_date=start_date, end_date=end_date,\n",
    "                     system_model_path=sysm_model)"
   ]
  },
  {
   "cell_type": "code",
   "execution_count": 15,
   "metadata": {},
   "outputs": [
    {
     "data": {
      "text/plain": [
       "{'diameter': 0.2101,\n",
       " 'length': 40.10060652984215,\n",
       " 'pipeID': '10021014',\n",
       " 'name': '10021014',\n",
       " 'node_0': 1002,\n",
       " 'node_1': 1014,\n",
       " 'm_flow': DateTime\n",
       " 2024-01-01 00:00:00   -1.839387e-14\n",
       " 2024-01-01 00:15:00    7.673894e+00\n",
       " 2024-01-01 00:30:00    7.706192e+00\n",
       " 2024-01-01 00:45:00    7.636544e+00\n",
       " 2024-01-01 01:00:00    6.587033e+00\n",
       "                            ...     \n",
       " 2024-01-06 23:00:00    4.114639e+00\n",
       " 2024-01-06 23:15:00    4.434352e+00\n",
       " 2024-01-06 23:30:00    4.977651e+00\n",
       " 2024-01-06 23:45:00    4.601973e+00\n",
       " 2024-01-07 00:00:00    6.023778e+00\n",
       " Freq: 15min, Name: networkModel.pipe10021014.port_a.m_flow, Length: 577, dtype: float32,\n",
       " 'dp': DateTime\n",
       " 2024-01-01 00:00:00     0.000000\n",
       " 2024-01-01 00:15:00    67.377701\n",
       " 2024-01-01 00:30:00    67.946053\n",
       " 2024-01-01 00:45:00    66.723419\n",
       " 2024-01-01 01:00:00    49.643723\n",
       "                          ...    \n",
       " 2024-01-06 23:00:00    19.370827\n",
       " 2024-01-06 23:15:00    22.498056\n",
       " 2024-01-06 23:30:00    28.348719\n",
       " 2024-01-06 23:45:00    24.231073\n",
       " 2024-01-07 00:00:00    41.516678\n",
       " Freq: 15min, Name: networkModel.pipe10021014.dp, Length: 577, dtype: float32}"
      ]
     },
     "execution_count": 15,
     "metadata": {},
     "output_type": "execute_result"
    }
   ],
   "source": [
    "graph.edges[1001,1006]"
   ]
  },
  {
   "cell_type": "code",
   "execution_count": 16,
   "metadata": {},
   "outputs": [
    {
     "data": {
      "text/plain": [
       "{'node_type': 'network_heating',\n",
       " 'network_id': 'network_id',\n",
       " 'position': <POINT (95.28 77.03)>,\n",
       " 'name': 1014,\n",
       " 'pressure': DateTime\n",
       " 2024-01-01 00:00:00    250000.000000\n",
       " 2024-01-01 00:15:00    263167.812500\n",
       " 2024-01-01 00:30:00    263278.875000\n",
       " 2024-01-01 00:45:00    263039.937500\n",
       " 2024-01-01 01:00:00    259702.015625\n",
       "                            ...      \n",
       " 2024-01-06 23:00:00    253785.921875\n",
       " 2024-01-06 23:15:00    254495.156250\n",
       " 2024-01-06 23:30:00    255600.062500\n",
       " 2024-01-06 23:45:00    254806.640625\n",
       " 2024-01-07 00:00:00    258113.718750\n",
       " Freq: 15min, Name: networkModel.pipe10021014.port_b.p, Length: 577, dtype: float32,\n",
       " 'temperature': DateTime\n",
       " 2024-01-01 00:00:00    313.149994\n",
       " 2024-01-01 00:15:00    316.117676\n",
       " 2024-01-01 00:30:00    316.117798\n",
       " 2024-01-01 00:45:00    316.117676\n",
       " 2024-01-01 01:00:00    316.113464\n",
       "                           ...    \n",
       " 2024-01-06 23:00:00    316.084534\n",
       " 2024-01-06 23:15:00    316.088074\n",
       " 2024-01-06 23:30:00    316.094879\n",
       " 2024-01-06 23:45:00    316.092010\n",
       " 2024-01-07 00:00:00    316.103424\n",
       " Freq: 15min, Name: networkModel.pipe10021014.sta_b.T, Length: 577, dtype: float32}"
      ]
     },
     "execution_count": 16,
     "metadata": {},
     "output_type": "execute_result"
    }
   ],
   "source": [
    "graph.nodes[1006]"
   ]
  },
  {
   "cell_type": "code",
   "execution_count": null,
   "metadata": {},
   "outputs": [],
   "source": []
  }
 ],
 "metadata": {
  "kernelspec": {
   "display_name": "uesgraphs1",
   "language": "python",
   "name": "python3"
  },
  "language_info": {
   "codemirror_mode": {
    "name": "ipython",
    "version": 3
   },
   "file_extension": ".py",
   "mimetype": "text/x-python",
   "name": "python",
   "nbconvert_exporter": "python",
   "pygments_lexer": "ipython3",
   "version": "3.13.5"
  }
 },
 "nbformat": 4,
 "nbformat_minor": 2
}
