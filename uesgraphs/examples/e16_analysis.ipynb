{
 "cells": [
  {
   "cell_type": "code",
   "execution_count": null,
   "metadata": {},
   "outputs": [],
   "source": []
  },
  {
   "cell_type": "code",
   "execution_count": 1,
   "metadata": {},
   "outputs": [],
   "source": [
    "\n",
    "import uesgraphs as ug\n",
    "\n",
    "from uesgraphs.examples import e1_example_readme as e1\n",
    "\n",
    "import os\n",
    "import sys\n",
    "from datetime import datetime\n",
    "import tempfile"
   ]
  },
  {
   "cell_type": "code",
   "execution_count": 2,
   "metadata": {},
   "outputs": [],
   "source": [
    "import uesgraphs.analysis as analysis\n"
   ]
  },
  {
   "cell_type": "code",
   "execution_count": 10,
   "metadata": {},
   "outputs": [],
   "source": [
    "\n",
    "workspace = e1.workspace_example(\"e14\")\n",
    "\n",
    "dir_ues = os.path.dirname(os.path.dirname(workspace))\n",
    "pinola_json = os.path.join(dir_ues, \"workspace\", \"e11\", \"inputs\",\"test_modelgen\", \"Pinola\", \"nodes.json\")\n",
    "pinola_sim_data = os.path.join(dir_ues,\"uesgraphs\",\"data\",\"Pinola_low_temp_network_inputs.mat\")\n",
    "pinola_sim_data = r\"D:\\rka-lko\\work\\2025_04_analysis\\10042025SeestadtNewSim\\Sim20250409_190504\\Sim20250409_190504_1\\Results\\Sim20250409_190504_1_inputs.gzip\"\n",
    "pinola_json =r\"D:\\rka-lko\\git\\transurban_seestadt\\dhc_model\\workspace\\transurban_seestadt_uesgraphs.json\"\n",
    "sysm_model = r\"D:\\rka-lko\\git\\transurban_seestadt\\dhc_model\\workspace\\sysm_model.json\"\n",
    "if not os.path.exists(pinola_json):\n",
    "    raise FileNotFoundError(f\"File {pinola_json} not found.\"\n",
    "                            \"Please run example e11 to generate network topology.\")\n"
   ]
  },
  {
   "cell_type": "code",
   "execution_count": 11,
   "metadata": {},
   "outputs": [
    {
     "name": "stdout",
     "output_type": "stream",
     "text": [
      "read nodes...\n",
      "******\n",
      " input_ids were {'buildings': None, 'nodes': 'f9aaeda0-ae79-42b3-8358-b465d4c47259', 'pipes': None, 'supplies': None}\n",
      "...finished\n"
     ]
    }
   ],
   "source": [
    "\n",
    "graph = ug.UESGraph()\n",
    "graph.from_json(path = pinola_json, network_type=\"heating\")\n",
    "graph.graph[\"name\"] = \"pinola\"\n",
    "graph.graph[\"supply_type\"] = \"supply\"\n",
    "\n",
    "start_date=datetime(2024, 1, 1) \n",
    "end_date=datetime(2024, 1, 7)\n",
    "    \n"
   ]
  },
  {
   "cell_type": "code",
   "execution_count": 9,
   "metadata": {},
   "outputs": [
    {
     "name": "stdout",
     "output_type": "stream",
     "text": [
      "Logfile findable here: C:\\Users\\rka-lko\\AppData\\Local\\Temp\\uesgraphs.analysis.data_handling.data_handling.assign_data_to_uesgraphs_20250605_172809.log\n"
     ]
    },
    {
     "ename": "KeyError",
     "evalue": "'networkModel.pipe1.dp'",
     "output_type": "error",
     "traceback": [
      "\u001b[31m---------------------------------------------------------------------------\u001b[39m",
      "\u001b[31mKeyError\u001b[39m                                  Traceback (most recent call last)",
      "\u001b[36mCell\u001b[39m\u001b[36m \u001b[39m\u001b[32mIn[9]\u001b[39m\u001b[32m, line 1\u001b[39m\n\u001b[32m----> \u001b[39m\u001b[32m1\u001b[39m gr = \u001b[43manalysis\u001b[49m\u001b[43m.\u001b[49m\u001b[43massign_simulation_data\u001b[49m\u001b[43m(\u001b[49m\u001b[43mgraph\u001b[49m\u001b[43m,\u001b[49m\u001b[43m \u001b[49m\u001b[43mpinola_sim_data\u001b[49m\u001b[43m,\u001b[49m\u001b[43m \u001b[49m\u001b[43mstart_date\u001b[49m\u001b[43m,\u001b[49m\u001b[43m \u001b[49m\u001b[43mend_date\u001b[49m\u001b[43m,\u001b[49m\u001b[43maixlib_version\u001b[49m\u001b[43m=\u001b[49m\u001b[33;43m\"\u001b[39;49m\u001b[33;43m2.0.0\u001b[39;49m\u001b[33;43m\"\u001b[39;49m\u001b[43m,\u001b[49m\u001b[43mauto_retry\u001b[49m\u001b[43m=\u001b[49m\u001b[38;5;28;43;01mTrue\u001b[39;49;00m\u001b[43m)\u001b[49m\n",
      "\u001b[36mFile \u001b[39m\u001b[32mD:\\rka-lko\\git\\uesgraphs\\uesgraphs\\analysis\\data_handling\\data_handling.py:553\u001b[39m, in \u001b[36massign_simulation_data\u001b[39m\u001b[34m(graph, sim_data, start_date, end_date, aixlib_version, time_interval, auto_retry, validate_network, log_dir)\u001b[39m\n\u001b[32m    550\u001b[39m     \u001b[38;5;28;01mreturn\u001b[39;00m graph_with_nodes\n\u001b[32m    552\u001b[39m \u001b[38;5;66;03m# First attempt with specified version\u001b[39;00m\n\u001b[32m--> \u001b[39m\u001b[32m553\u001b[39m result = \u001b[43m_attempt_assignment\u001b[49m\u001b[43m(\u001b[49m\u001b[43maixlib_version\u001b[49m\u001b[43m)\u001b[49m\n\u001b[32m    554\u001b[39m logger.info(\u001b[33m\"\u001b[39m\u001b[33m=\u001b[39m\u001b[33m\"\u001b[39m*\u001b[32m60\u001b[39m)\n\u001b[32m    555\u001b[39m logger.info(\u001b[33m\"\u001b[39m\u001b[33mUESGraph data assignment completed successfully\u001b[39m\u001b[33m\"\u001b[39m)\n",
      "\u001b[36mFile \u001b[39m\u001b[32mD:\\rka-lko\\git\\uesgraphs\\uesgraphs\\analysis\\data_handling\\data_handling.py:499\u001b[39m, in \u001b[36massign_simulation_data.<locals>._attempt_assignment\u001b[39m\u001b[34m(version)\u001b[39m\n\u001b[32m    496\u001b[39m             logger.warning(\u001b[33mf\u001b[39m\u001b[33m\"\u001b[39m\u001b[33mRetry with version \u001b[39m\u001b[38;5;132;01m{\u001b[39;00mv\u001b[38;5;132;01m}\u001b[39;00m\u001b[33m failed: \u001b[39m\u001b[38;5;132;01m{\u001b[39;00mretry_error\u001b[38;5;132;01m}\u001b[39;00m\u001b[33m\"\u001b[39m)\n\u001b[32m    498\u001b[39m \u001b[38;5;66;03m# Process simulation data\u001b[39;00m\n\u001b[32m--> \u001b[39m\u001b[32m499\u001b[39m df = \u001b[43mprocess_simulation_result\u001b[49m\u001b[43m(\u001b[49m\u001b[43mfile_path\u001b[49m\u001b[43m=\u001b[49m\u001b[43msim_data\u001b[49m\u001b[43m,\u001b[49m\u001b[43m \u001b[49m\u001b[43mfilter_list\u001b[49m\u001b[43m=\u001b[49m\u001b[43mfilter_list\u001b[49m\u001b[43m,\u001b[49m\u001b[43m \u001b[49m\u001b[43mlogger\u001b[49m\u001b[43m=\u001b[49m\u001b[43mlogger\u001b[49m\u001b[43m)\u001b[49m\n\u001b[32m    500\u001b[39m logger.info(\u001b[33mf\u001b[39m\u001b[33m\"\u001b[39m\u001b[33mRaw data shape: \u001b[39m\u001b[38;5;132;01m{\u001b[39;00mdf.shape\u001b[38;5;132;01m}\u001b[39;00m\u001b[33m\"\u001b[39m)\n\u001b[32m    502\u001b[39m \u001b[38;5;66;03m# Prepare DataFrame with time index\u001b[39;00m\n",
      "\u001b[36mFile \u001b[39m\u001b[32mD:\\rka-lko\\git\\uesgraphs\\uesgraphs\\analysis\\data_handling\\data_handling.py:208\u001b[39m, in \u001b[36mprocess_simulation_result\u001b[39m\u001b[34m(file_path, filter_list, chunk_size, logger)\u001b[39m\n\u001b[32m    205\u001b[39m check_input_file(file_path=file_path, logger=logger)\n\u001b[32m    207\u001b[39m \u001b[38;5;66;03m# Step 1: Validate all columns exist (will raise KeyError if missing)\u001b[39;00m\n\u001b[32m--> \u001b[39m\u001b[32m208\u001b[39m available_columns = \u001b[43mvalidate_columns_exist\u001b[49m\u001b[43m(\u001b[49m\u001b[43mfile_path\u001b[49m\u001b[43m,\u001b[49m\u001b[43m \u001b[49m\u001b[43mrequired_columns\u001b[49m\u001b[43m=\u001b[49m\u001b[43mfilter_list\u001b[49m\u001b[43m,\u001b[49m\u001b[43m \u001b[49m\u001b[43mlogger\u001b[49m\u001b[43m=\u001b[49m\u001b[43mlogger\u001b[49m\u001b[43m)\u001b[49m\n\u001b[32m    210\u001b[39m \u001b[38;5;66;03m# Step 2: Check if any columns match the filter_list\u001b[39;00m\n\u001b[32m    211\u001b[39m logger.info(\u001b[33mf\u001b[39m\u001b[33m\"\u001b[39m\u001b[33mStarting parquet file processing: \u001b[39m\u001b[38;5;132;01m{\u001b[39;00mfile_path\u001b[38;5;132;01m}\u001b[39;00m\u001b[33m\"\u001b[39m)\n",
      "\u001b[36mFile \u001b[39m\u001b[32mD:\\rka-lko\\git\\uesgraphs\\uesgraphs\\analysis\\data_handling\\data_handling.py:182\u001b[39m, in \u001b[36mvalidate_columns_exist\u001b[39m\u001b[34m(file_path, required_columns, logger)\u001b[39m\n\u001b[32m    180\u001b[39m     \u001b[38;5;66;03m# Raise KeyError with first missing column for auto-retry compatibility\u001b[39;00m\n\u001b[32m    181\u001b[39m     first_missing = missing_list[\u001b[32m0\u001b[39m]\n\u001b[32m--> \u001b[39m\u001b[32m182\u001b[39m     \u001b[38;5;28;01mraise\u001b[39;00m \u001b[38;5;167;01mKeyError\u001b[39;00m(first_missing)\n\u001b[32m    184\u001b[39m logger.info(\u001b[33m\"\u001b[39m\u001b[33m✅ All required columns found in data file\u001b[39m\u001b[33m\"\u001b[39m)\n\u001b[32m    185\u001b[39m \u001b[38;5;28;01mreturn\u001b[39;00m available_columns\n",
      "\u001b[31mKeyError\u001b[39m: 'networkModel.pipe1.dp'"
     ]
    }
   ],
   "source": [
    "gr = analysis.assign_simulation_data(graph, pinola_sim_data, start_date, end_date,aixlib_version=\"2.0.0\",auto_retry=True)"
   ]
  },
  {
   "cell_type": "code",
   "execution_count": null,
   "metadata": {},
   "outputs": [],
   "source": [
    "sysm_model"
   ]
  },
  {
   "cell_type": "code",
   "execution_count": null,
   "metadata": {},
   "outputs": [],
   "source": [
    "map_system_model_to_uesgraph(mo,uesgraph)\n"
   ]
  },
  {
   "cell_type": "code",
   "execution_count": null,
   "metadata": {},
   "outputs": [
    {
     "name": "stdout",
     "output_type": "stream",
     "text": [
      "Edge (1001, 1005) has data: 10021010\n",
      "Edge (1001, 1006) has data: 10021014\n",
      "Edge (1001, 1009) has data: 10021025\n",
      "Edge (1002, 1003) has data: 10041006\n",
      "Edge (1002, 1004) has data: 10041007\n",
      "Edge (1002, 1011) has data: 10041027\n",
      "Edge (1003, 1008) has data: 10061022\n",
      "Edge (1004, 1007) has data: 10071018\n",
      "Edge (1005, 1013) has data: 10101029\n",
      "Edge (1006, 1008) has data: 10141022\n",
      "Edge (1006, 1010) has data: 10141026\n",
      "Edge (1007, 1012) has data: 10181028\n"
     ]
    }
   ],
   "source": [
    "edges = list(gr.edges)\n",
    "for edge in edges:\n",
    "    print(f\"Edge {edge} has data: {gr.edges[edge][\"m_flow\"]}\")"
   ]
  },
  {
   "cell_type": "code",
   "execution_count": null,
   "metadata": {},
   "outputs": [],
   "source": []
  },
  {
   "cell_type": "code",
   "execution_count": null,
   "metadata": {},
   "outputs": [],
   "source": [
    "    graph = analyze.assign_data_to_uesgraphs(graph,sim_data = pinola_sim_data,\n",
    "                                             start_date=start_date,\n",
    "                                             end_date=end_date,\n",
    "                                             aixlib_version=\"2.1.0\") #aixlib version is needed to assign data properly\n",
    "    \n",
    "    ### Plotting\n",
    "    #Visuals cant handle series data, so we just take the mean values, but single time points are possible\n",
    "    vis = ug.Visuals(graph)\n",
    "    for edge in graph.edges:\n",
    "        graph.edges[edge][\"m_flow_mean\"] = graph.edges[edge][\"m_flow\"].mean()\n",
    "    vis.show_network(show_plot=False,\n",
    "                           scaling_factor=1,\n",
    "                           scaling_factor_diameter=50,\n",
    "                           label_size=15,\n",
    "                           ylabel=\"Mean mass flow [kg/s]\",\n",
    "                           generic_extensive_size=\"m_flow_mean\",\n",
    "                           save_as=os.path.join(workspace, \"m_flow.png\"),\n",
    "                           timestamp=f\"{graph.graph[\"name\"]}: Mean mass flow\"\n",
    "                           )\n",
    "    \n",
    "    for node in graph.nodes:\n",
    "        graph.nodes[node][\"press_flow_mean\"] = graph.nodes[node][\"press_flow\"].mean()\n",
    "    vis.show_network(show_plot=False,\n",
    "                           scaling_factor=1,\n",
    "                           scaling_factor_diameter=50,\n",
    "                           ylabel=\"Mean pressure [Pa]\",\n",
    "                           label_size=15,\n",
    "                           generic_intensive_size=\"press_flow_mean\",\n",
    "                           save_as=os.path.join(workspace, \"press_flow.png\"),\n",
    "                           timestamp=f\"{graph.graph[\"name\"]}: Mean pressure flow\"\n",
    "                           )\n",
    "    \n",
    "    df = analyze.pump_power_analysis(graph, True, r\"D:\\rka-lko\\work\\2025_04_analysis\\3\")\n",
    "\n",
    "if __name__ == \"__main__\":\n",
    "    main()"
   ]
  },
  {
   "cell_type": "code",
   "execution_count": null,
   "metadata": {},
   "outputs": [],
   "source": []
  }
 ],
 "metadata": {
  "kernelspec": {
   "display_name": "uesgraphs_git1",
   "language": "python",
   "name": "python3"
  },
  "language_info": {
   "codemirror_mode": {
    "name": "ipython",
    "version": 3
   },
   "file_extension": ".py",
   "mimetype": "text/x-python",
   "name": "python",
   "nbconvert_exporter": "python",
   "pygments_lexer": "ipython3",
   "version": "3.13.2"
  }
 },
 "nbformat": 4,
 "nbformat_minor": 2
}
