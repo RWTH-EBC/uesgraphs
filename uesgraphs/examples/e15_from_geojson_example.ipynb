{
 "cells": [
  {
   "cell_type": "markdown",
   "metadata": {},
   "source": [
    "# Example: Import district heating network from GeoJSON files\n",
    "============================================================\n",
    "\n",
    "This example demonstrates how to import a district heating network\n",
    "from three GeoJSON files representing network topology, buildings,\n",
    "and supply points.\n"
   ]
  },
  {
   "cell_type": "code",
   "execution_count": 1,
   "metadata": {},
   "outputs": [
    {
     "name": "stdout",
     "output_type": "stream",
     "text": [
      "Logfile findable here: C:\\Users\\rka-lko\\AppData\\Local\\Temp\\5\\Visuals_20251009_170430.log\n"
     ]
    },
    {
     "name": "stderr",
     "output_type": "stream",
     "text": [
      "Ignoring fixed y limits to fulfill fixed data aspect with adjustable data limits.\n",
      "Ignoring fixed y limits to fulfill fixed data aspect with adjustable data limits.\n"
     ]
    },
    {
     "name": "stdout",
     "output_type": "stream",
     "text": [
      "Saved visualization to E:\\rka_lko\\git\\uesgraphs\\workspace\\e15\\visuals_of_uesgraph_creation\\1_basic_uesgraph.pdf\n",
      "Logfile findable here: C:\\Users\\rka-lko\\AppData\\Local\\Temp\\5\\Visuals_20251009_170430.log\n"
     ]
    },
    {
     "name": "stderr",
     "output_type": "stream",
     "text": [
      "Ignoring fixed y limits to fulfill fixed data aspect with adjustable data limits.\n"
     ]
    },
    {
     "name": "stdout",
     "output_type": "stream",
     "text": [
      "Saved visualization to E:\\rka_lko\\git\\uesgraphs\\workspace\\e15\\visuals_of_uesgraph_creation\\2_with_supply.pdf\n",
      "Logfile findable here: C:\\Users\\rka-lko\\AppData\\Local\\Temp\\5\\Visuals_20251009_170431.log\n"
     ]
    },
    {
     "name": "stderr",
     "output_type": "stream",
     "text": [
      "Ignoring fixed y limits to fulfill fixed data aspect with adjustable data limits.\n"
     ]
    },
    {
     "name": "stdout",
     "output_type": "stream",
     "text": [
      "Saved visualization to E:\\rka_lko\\git\\uesgraphs\\workspace\\e15\\visuals_of_uesgraph_creation\\3_with_bldg.pdf\n",
      "Logfile findable here: C:\\Users\\rka-lko\\AppData\\Local\\Temp\\5\\Visuals_20251009_170431.log\n",
      "Saved visualization to E:\\rka_lko\\git\\uesgraphs\\workspace\\e15\\visuals_of_uesgraph_creation\\4_coords_transformed.pdf\n",
      "Total network length (m):  426.27\n",
      "============ Uesgraphs Import from GeoJSON successful! ============\n",
      "Network nodes: 8\n",
      "Buildings: 5\n",
      "Total length: 426.27 m\n",
      "Visualizations of network generation can be found in: E:\\rka_lko\\git\\uesgraphs\\workspace\\e15\\visualizations\n"
     ]
    }
   ],
   "source": [
    "\n",
    "import os\n",
    "from uesgraphs import UESGraph\n",
    "from uesgraphs.examples import e1_readme_example as e1\n",
    "\n",
    "#Set workspace\n",
    "workspace = e1.workspace_example(\"e15\")\n",
    "\n",
    "\n",
    "# Get path to example data\n",
    "uesgraphs_dir = os.path.dirname(os.getcwd())\n",
    "data_dir = os.path.join(uesgraphs_dir, 'data','examples', 'e15_geojson')\n",
    "\n",
    "# Create graph and import GeoJSON\n",
    "graph = UESGraph()\n",
    "graph.from_geojson(\n",
    "    network_path=os.path.join(data_dir, 'network.geojson'),\n",
    "    buildings_path=os.path.join(data_dir, 'buildings.geojson'),\n",
    "    supply_path=os.path.join(data_dir, 'supply.geojson'),\n",
    "    name='simple_district',\n",
    "    save_path=workspace,\n",
    "    generate_visualizations=True\n",
    ")\n",
    "\n",
    "\n",
    "print(f\"============ Uesgraphs Import from GeoJSON successful! ============\")\n",
    "print(f\"Network nodes: {graph.number_of_nodes('heating')}\")\n",
    "print(f\"Buildings: {graph.number_of_nodes('building')}\")\n",
    "print(f\"Total length: {graph.network_length:.2f} m\")\n",
    "print(f\"Visualizations of network generation can be found in: {os.path.join(workspace, 'visualizations')}\")\n",
    "\n",
    "graph.to_json(os.path.join(workspace, 'simple_district_graph.json'))"
   ]
  }
 ],
 "metadata": {
  "kernelspec": {
   "display_name": "uesgraphs1",
   "language": "python",
   "name": "python3"
  },
  "language_info": {
   "codemirror_mode": {
    "name": "ipython",
    "version": 3
   },
   "file_extension": ".py",
   "mimetype": "text/x-python",
   "name": "python",
   "nbconvert_exporter": "python",
   "pygments_lexer": "ipython3",
   "version": "3.13.5"
  }
 },
 "nbformat": 4,
 "nbformat_minor": 2
}
